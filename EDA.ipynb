{
 "cells": [
  {
   "cell_type": "code",
   "execution_count": 1,
   "metadata": {},
   "outputs": [],
   "source": [
    "import numpy as np\n",
    "import pandas as pd\n",
    "import matplotlib.pyplot as plt"
   ]
  },
  {
   "cell_type": "markdown",
   "metadata": {},
   "source": [
    "### EDA + cleaning"
   ]
  },
  {
   "cell_type": "code",
   "execution_count": 2,
   "metadata": {},
   "outputs": [
    {
     "data": {
      "text/html": [
       "<div>\n",
       "<style scoped>\n",
       "    .dataframe tbody tr th:only-of-type {\n",
       "        vertical-align: middle;\n",
       "    }\n",
       "\n",
       "    .dataframe tbody tr th {\n",
       "        vertical-align: top;\n",
       "    }\n",
       "\n",
       "    .dataframe thead th {\n",
       "        text-align: right;\n",
       "    }\n",
       "</style>\n",
       "<table border=\"1\" class=\"dataframe\">\n",
       "  <thead>\n",
       "    <tr style=\"text-align: right;\">\n",
       "      <th></th>\n",
       "      <th>title</th>\n",
       "      <th>originalTitle</th>\n",
       "      <th>description</th>\n",
       "      <th>genre</th>\n",
       "    </tr>\n",
       "  </thead>\n",
       "  <tbody>\n",
       "    <tr>\n",
       "      <th>0</th>\n",
       "      <td>Zielona mila</td>\n",
       "      <td>The Green Mile</td>\n",
       "      <td>Emerytowany strażnik więzienny opowiada przyja...</td>\n",
       "      <td>Dramat</td>\n",
       "    </tr>\n",
       "    <tr>\n",
       "      <th>1</th>\n",
       "      <td>Skazani na Shawshank</td>\n",
       "      <td>The Shawshank Redemption</td>\n",
       "      <td>Adaptacja opowiadania Stephena Kinga. Niesłusz...</td>\n",
       "      <td>Dramat</td>\n",
       "    </tr>\n",
       "    <tr>\n",
       "      <th>2</th>\n",
       "      <td>Forrest Gump</td>\n",
       "      <td>NaN</td>\n",
       "      <td>Historia życia Forresta, chłopca o niskim ilor...</td>\n",
       "      <td>Dramat / Komedia</td>\n",
       "    </tr>\n",
       "    <tr>\n",
       "      <th>3</th>\n",
       "      <td>Leon zawodowiec</td>\n",
       "      <td>Léon</td>\n",
       "      <td>Płatny morderca ratuje dwunastoletnią dziewczy...</td>\n",
       "      <td>Dramat / Kryminał</td>\n",
       "    </tr>\n",
       "    <tr>\n",
       "      <th>4</th>\n",
       "      <td>Requiem dla snu</td>\n",
       "      <td>Requiem for a Dream</td>\n",
       "      <td>Historia czwórki bohaterów, dla których używki...</td>\n",
       "      <td>Dramat</td>\n",
       "    </tr>\n",
       "  </tbody>\n",
       "</table>\n",
       "</div>"
      ],
      "text/plain": [
       "                  title             originalTitle  \\\n",
       "0          Zielona mila            The Green Mile   \n",
       "1  Skazani na Shawshank  The Shawshank Redemption   \n",
       "2          Forrest Gump                       NaN   \n",
       "3       Leon zawodowiec                      Léon   \n",
       "4       Requiem dla snu       Requiem for a Dream   \n",
       "\n",
       "                                         description              genre  \n",
       "0  Emerytowany strażnik więzienny opowiada przyja...             Dramat  \n",
       "1  Adaptacja opowiadania Stephena Kinga. Niesłusz...             Dramat  \n",
       "2  Historia życia Forresta, chłopca o niskim ilor...   Dramat / Komedia  \n",
       "3  Płatny morderca ratuje dwunastoletnią dziewczy...  Dramat / Kryminał  \n",
       "4  Historia czwórki bohaterów, dla których używki...             Dramat  "
      ]
     },
     "execution_count": 2,
     "metadata": {},
     "output_type": "execute_result"
    }
   ],
   "source": [
    "## Read filmweb data\n",
    "df_filmweb = pd.read_csv(\"data/filmweb.csv\")\n",
    "df_filmweb.head()"
   ]
  },
  {
   "cell_type": "code",
   "execution_count": 3,
   "metadata": {},
   "outputs": [],
   "source": [
    "## Read train imdb data\n",
    "df_imdb_1 = pd.read_csv('data/train_data.txt', sep=\":::\", header=None, engine='python')\n",
    "df_imdb_1.columns = ['id', 'title', 'genre', 'description']\n",
    "df_imdb_1 = df_imdb_1.drop(columns=[\"id\"])"
   ]
  },
  {
   "cell_type": "code",
   "execution_count": 4,
   "metadata": {},
   "outputs": [],
   "source": [
    "## Read test imdb data\n",
    "df_imdb_2 = pd.read_csv('data/test_data_solution.txt', sep=\":::\", header=None, engine='python')\n",
    "df_imdb_2.columns = ['id', 'title', 'genre', 'description']\n",
    "df_imdb_2 = df_imdb_2.drop(columns=[\"id\"])"
   ]
  },
  {
   "cell_type": "code",
   "execution_count": 5,
   "metadata": {},
   "outputs": [],
   "source": [
    "## Combine the imdb datasets to create one big dataset\n",
    "df_imdb_all = pd.concat([df_imdb_1, df_imdb_2], axis=0).reset_index(drop=True)"
   ]
  },
  {
   "cell_type": "code",
   "execution_count": 6,
   "metadata": {},
   "outputs": [
    {
     "name": "stdout",
     "output_type": "stream",
     "text": [
      "Number of samples in filmweb dataset 9,943\n",
      "Number of samples in imdb dataset 108,414\n"
     ]
    }
   ],
   "source": [
    "## Compare the sizes of two datasets\n",
    "print(f\"Number of samples in filmweb dataset {df_filmweb.shape[0]:,}\")\n",
    "print(f\"Number of samples in imdb dataset {df_imdb_all.shape[0]:,}\")"
   ]
  },
  {
   "cell_type": "code",
   "execution_count": 7,
   "metadata": {},
   "outputs": [],
   "source": [
    "## Check for Nan's"
   ]
  },
  {
   "cell_type": "code",
   "execution_count": 8,
   "metadata": {},
   "outputs": [
    {
     "data": {
      "text/plain": [
       "title               0\n",
       "originalTitle    2366\n",
       "description         0\n",
       "genre               0\n",
       "dtype: int64"
      ]
     },
     "execution_count": 8,
     "metadata": {},
     "output_type": "execute_result"
    }
   ],
   "source": [
    "## We can get the \"originalTitle\" from the title column\n",
    "## Because if the title is the same as originalTitle then the second column\n",
    "## has a NaN as an entry\n",
    "df_filmweb.isna().sum()"
   ]
  },
  {
   "cell_type": "code",
   "execution_count": 9,
   "metadata": {},
   "outputs": [
    {
     "data": {
      "text/plain": [
       "title          0\n",
       "genre          0\n",
       "description    0\n",
       "dtype: int64"
      ]
     },
     "execution_count": 9,
     "metadata": {},
     "output_type": "execute_result"
    }
   ],
   "source": [
    "df_imdb_all.isna().sum()"
   ]
  },
  {
   "cell_type": "code",
   "execution_count": 10,
   "metadata": {},
   "outputs": [],
   "source": [
    "## If the \"originalTitle\" is None then the \"title\" is the \"originalTitle\"\n",
    "df_filmweb[\"originalTitle\"][df_filmweb[\"originalTitle\"].isna()] = df_filmweb[\"title\"][df_filmweb[\"originalTitle\"].isna()]\n",
    "\n",
    "## Let's also drop the \"title\" column because it's no longer needed and rename the \"originalTitle\" column to \"title\"\n",
    "df_filmweb = df_filmweb.drop(columns=\"title\").rename({\"originalTitle\": \"title\"}, axis=1)"
   ]
  },
  {
   "cell_type": "code",
   "execution_count": 11,
   "metadata": {},
   "outputs": [
    {
     "data": {
      "text/plain": [
       "title          0\n",
       "description    0\n",
       "genre          0\n",
       "dtype: int64"
      ]
     },
     "execution_count": 11,
     "metadata": {},
     "output_type": "execute_result"
    }
   ],
   "source": [
    "## Check again for missing values for filmweb dataset\n",
    "df_filmweb.isna().sum()"
   ]
  },
  {
   "cell_type": "code",
   "execution_count": 12,
   "metadata": {},
   "outputs": [],
   "source": [
    "## Check unique genres in each move database"
   ]
  },
  {
   "cell_type": "code",
   "execution_count": 13,
   "metadata": {},
   "outputs": [
    {
     "data": {
      "text/plain": [
       "27"
      ]
     },
     "execution_count": 13,
     "metadata": {},
     "output_type": "execute_result"
    }
   ],
   "source": [
    "df_imdb_all.genre.nunique()"
   ]
  },
  {
   "cell_type": "code",
   "execution_count": 14,
   "metadata": {},
   "outputs": [
    {
     "data": {
      "text/plain": [
       "959"
      ]
     },
     "execution_count": 14,
     "metadata": {},
     "output_type": "execute_result"
    }
   ],
   "source": [
    "## Let's inspect what's going on here\n",
    "df_filmweb.genre.nunique()"
   ]
  },
  {
   "cell_type": "code",
   "execution_count": 15,
   "metadata": {},
   "outputs": [
    {
     "data": {
      "text/plain": [
       "Dramat                                   0.104395\n",
       "Komedia                                  0.049381\n",
       "Horror                                   0.049180\n",
       "Dramat / Komedia                         0.038419\n",
       "Thriller                                 0.035502\n",
       "                                           ...   \n",
       "Sportowy                                 0.000101\n",
       "Sensacyjny / Psychologiczny              0.000101\n",
       "Dramat / Kryminał / Wojenny              0.000101\n",
       "Biograficzny / Komedia / Wojenny         0.000101\n",
       "Dramat / Komedia / Kryminał / Musical    0.000101\n",
       "Name: genre, Length: 959, dtype: float64"
      ]
     },
     "execution_count": 15,
     "metadata": {},
     "output_type": "execute_result"
    }
   ],
   "source": [
    "## As we can probably deduce a movie can belong to multiple genre\n",
    "## For the sake of comparison with imdb dataset let's\n",
    "## only take the first occuring genre as the \"true\" genre of the movie\n",
    "## But before that let's first check for the existance of the same\n",
    "## movies in both datasets, so we can compare them later\n",
    "df_filmweb.genre.value_counts(normalize=True)"
   ]
  },
  {
   "cell_type": "markdown",
   "metadata": {},
   "source": [
    "Let's inspect how the title of both datasets look like"
   ]
  },
  {
   "cell_type": "code",
   "execution_count": 16,
   "metadata": {},
   "outputs": [
    {
     "data": {
      "text/plain": [
       "0                 The Green Mile\n",
       "1       The Shawshank Redemption\n",
       "2                   Forrest Gump\n",
       "3                           Léon\n",
       "4            Requiem for a Dream\n",
       "                  ...           \n",
       "9938                  Dark Angel\n",
       "9939          Pożegnanie z Marią\n",
       "9940                         Rh+\n",
       "9941     Wet Hot American Summer\n",
       "9942                The Sicilian\n",
       "Name: title, Length: 9943, dtype: object"
      ]
     },
     "execution_count": 16,
     "metadata": {},
     "output_type": "execute_result"
    }
   ],
   "source": [
    "df_filmweb.title"
   ]
  },
  {
   "cell_type": "code",
   "execution_count": 17,
   "metadata": {},
   "outputs": [
    {
     "data": {
      "text/plain": [
       "0              Oscar et la dame rose (2009) \n",
       "1                              Cupid (1997) \n",
       "2          Young, Wild and Wonderful (1980) \n",
       "3                     The Secret Sin (1915) \n",
       "4                    The Unrecovered (2007) \n",
       "                         ...                \n",
       "108409       \"Tales of Light & Dark\" (2013) \n",
       "108410          Der letzte Mohikaner (1965) \n",
       "108411                  Oliver Twink (2007) \n",
       "108412                    Slipstream (1973) \n",
       "108413            Curitiba Zero Grau (2010) \n",
       "Name: title, Length: 108414, dtype: object"
      ]
     },
     "execution_count": 17,
     "metadata": {},
     "output_type": "execute_result"
    }
   ],
   "source": [
    "df_imdb_all.title"
   ]
  },
  {
   "cell_type": "markdown",
   "metadata": {},
   "source": [
    "Unfortunately the imdb dataset contains also the year in which the movie was released(probably), therefore right now we won't be able to check if there are any movies that belong to both datasets, so let's clean the title column in both of the datasets <br>\n",
    "The cleaning consists of deleting the \"(year)\" part from each title and also dropping the special characters and making each of them a lower case character."
   ]
  },
  {
   "cell_type": "code",
   "execution_count": 18,
   "metadata": {},
   "outputs": [],
   "source": [
    "## preprocessing \n",
    "def clean_titles(ser: pd.Series) -> pd.Series:\n",
    "    ser = ser.copy()\n",
    "\n",
    "\n",
    "    ser = (ser\n",
    "    .str\n",
    "    .replace(pat=r\"(\\([a-zA-Z0-9./?]+\\))|([\\'\\\"])\", repl=\"\", regex=True)\n",
    "    .str\n",
    "    .strip()\n",
    "    .str\n",
    "    .normalize(\"NFKD\")\n",
    "    .str\n",
    "    .encode(\"ascii\", errors=\"ignore\")\n",
    "    .str\n",
    "    .decode(\"utf-8\")\n",
    "    .str\n",
    "    .lower()\n",
    "    )\n",
    "    return ser\n",
    "\n",
    "\n",
    "def first_genre_filmweb(df_, genres):\n",
    "    ## Słowniczek\n",
    "    mapping = {\"dramat\": \"drama\", \"komedia\": \"comedy\", \"dokumentalny\": \"documentary\", \"krótkometrażowy\": \"short\",\n",
    "              \"akcja\": \"action\", \"melodramat\": \"drama\", \"familijny\": \"family\", \"przygodowy\": \"adventure\",\n",
    "              \"muzyczny\": \"music\", \"romans\": \"romance\",  \"sensacyjny\": \"thriller\", \"biograficzny\": \"biography\",\n",
    "              \"animacja\": \"animation\", \"dramat obyczajowy\": \"drama\", \"dramat historyczny\": \"drama\",\n",
    "              \"dramat sądowy\": \"drama\", \"wojenny\": \"war\", \"kryminał\": \"crime\", \"psychologiczny\": \"thriller\",\n",
    "              \"komedia rom.\": \"comedy\", \"komedia kryminalna\": \"comedy\", \"komedia obycz.\": \"comedy\"}\n",
    "    \n",
    "    df_ = df_.copy()\n",
    "\n",
    "    df_ = (df_\n",
    "            .assign(genre = lambda df_d: df_d\n",
    "                [\"genre\"]\n",
    "                .str\n",
    "                .split(\" / \")\n",
    "                .apply(lambda v: v[0])\n",
    "                .str\n",
    "                .lower()\n",
    "                .replace(mapping))\n",
    "            .loc[lambda v: v.genre.isin(genres)])\n",
    "    return df_\n",
    "\n",
    "\n",
    "def explode_genres_filmweb(df_):\n",
    "    \n",
    "    ## Słowniczek\n",
    "    mapping = {\"dramat\": \"drama\", \"komedia\": \"comedy\", \"dokumentalny\": \"documentary\", \"krótkometrażowy\": \"short\",\n",
    "              \"akcja\": \"action\", \"melodramat\": \"drama\", \"familijny\": \"family\", \"przygodowy\": \"adventure\",\n",
    "              \"muzyczny\": \"music\", \"romans\": \"romance\",  \"sensacyjny\": \"thriller\", \"biograficzny\": \"biography\",\n",
    "              \"animacja\": \"animation\", \"dramat obyczajowy\": \"drama\", \"dramat historyczny\": \"drama\",\n",
    "              \"dramat sądowy\": \"drama\", \"wojenny\": \"war\", \"kryminał\": \"crime\", \"psychologiczny\": \"thriller\",\n",
    "              \"komedia rom.\": \"comedy\", \"komedia kryminalna\": \"comedy\", \"komedia obycz.\": \"comedy\"}\n",
    "    \n",
    "    df_ = df_.copy()\n",
    "    \n",
    "    df_ = (df_\n",
    "            .assign(genre=lambda df_d: df_d\n",
    "                  [\"genre\"]\n",
    "                  .str\n",
    "                  .split(\" / \"))\n",
    "            .explode(\"genre\")\n",
    "            .assign(genre=lambda df_d: df_d\n",
    "                 [\"genre\"]\n",
    "                 .str\n",
    "                 .lower()\n",
    "                 .replace(mapping))\n",
    "        )\n",
    "    \n",
    "    \n",
    "    return df_"
   ]
  },
  {
   "cell_type": "code",
   "execution_count": 19,
   "metadata": {},
   "outputs": [],
   "source": [
    "## Cleanin'\n",
    "titles_filmweb = df_filmweb[\"title\"].pipe(clean_titles)\n",
    "titles_imdb = df_imdb_all[\"title\"].pipe(clean_titles)"
   ]
  },
  {
   "cell_type": "code",
   "execution_count": 20,
   "metadata": {},
   "outputs": [
    {
     "data": {
      "text/plain": [
       "2024"
      ]
     },
     "execution_count": 20,
     "metadata": {},
     "output_type": "execute_result"
    }
   ],
   "source": [
    "## Let's check how many titles belong to both datasets\n",
    "len(set(titles_filmweb) & set(titles_imdb))"
   ]
  },
  {
   "cell_type": "code",
   "execution_count": 21,
   "metadata": {},
   "outputs": [],
   "source": [
    "## Let's replace the the titles with the cleaned ones\n",
    "df_filmweb[\"title\"] = df_filmweb[\"title\"].pipe(clean_titles)\n",
    "df_imdb_all[\"title\"] = df_imdb_all[\"title\"].pipe(clean_titles)"
   ]
  },
  {
   "cell_type": "code",
   "execution_count": 22,
   "metadata": {},
   "outputs": [
    {
     "data": {
      "text/html": [
       "<div>\n",
       "<style scoped>\n",
       "    .dataframe tbody tr th:only-of-type {\n",
       "        vertical-align: middle;\n",
       "    }\n",
       "\n",
       "    .dataframe tbody tr th {\n",
       "        vertical-align: top;\n",
       "    }\n",
       "\n",
       "    .dataframe thead th {\n",
       "        text-align: right;\n",
       "    }\n",
       "</style>\n",
       "<table border=\"1\" class=\"dataframe\">\n",
       "  <thead>\n",
       "    <tr style=\"text-align: right;\">\n",
       "      <th></th>\n",
       "      <th>title</th>\n",
       "      <th>description</th>\n",
       "      <th>genre</th>\n",
       "    </tr>\n",
       "  </thead>\n",
       "  <tbody>\n",
       "    <tr>\n",
       "      <th>0</th>\n",
       "      <td>the green mile</td>\n",
       "      <td>Emerytowany strażnik więzienny opowiada przyja...</td>\n",
       "      <td>Dramat</td>\n",
       "    </tr>\n",
       "    <tr>\n",
       "      <th>1</th>\n",
       "      <td>the shawshank redemption</td>\n",
       "      <td>Adaptacja opowiadania Stephena Kinga. Niesłusz...</td>\n",
       "      <td>Dramat</td>\n",
       "    </tr>\n",
       "    <tr>\n",
       "      <th>2</th>\n",
       "      <td>forrest gump</td>\n",
       "      <td>Historia życia Forresta, chłopca o niskim ilor...</td>\n",
       "      <td>Dramat / Komedia</td>\n",
       "    </tr>\n",
       "    <tr>\n",
       "      <th>3</th>\n",
       "      <td>leon</td>\n",
       "      <td>Płatny morderca ratuje dwunastoletnią dziewczy...</td>\n",
       "      <td>Dramat / Kryminał</td>\n",
       "    </tr>\n",
       "    <tr>\n",
       "      <th>4</th>\n",
       "      <td>requiem for a dream</td>\n",
       "      <td>Historia czwórki bohaterów, dla których używki...</td>\n",
       "      <td>Dramat</td>\n",
       "    </tr>\n",
       "    <tr>\n",
       "      <th>...</th>\n",
       "      <td>...</td>\n",
       "      <td>...</td>\n",
       "      <td>...</td>\n",
       "    </tr>\n",
       "    <tr>\n",
       "      <th>9938</th>\n",
       "      <td>dark angel</td>\n",
       "      <td>Policyjny detektyw zostaje wplątany w zagrażaj...</td>\n",
       "      <td>Thriller / Sci-Fi</td>\n",
       "    </tr>\n",
       "    <tr>\n",
       "      <th>9939</th>\n",
       "      <td>pozegnanie z maria</td>\n",
       "      <td>Grupa młodych ludzi próbuje zachować resztki n...</td>\n",
       "      <td>Melodramat / Wojenny</td>\n",
       "    </tr>\n",
       "    <tr>\n",
       "      <th>9940</th>\n",
       "      <td>rh+</td>\n",
       "      <td>Rh (+) to opowieść o grupie dwudziestokilkule...</td>\n",
       "      <td>Kryminał / Sensacyjny</td>\n",
       "    </tr>\n",
       "    <tr>\n",
       "      <th>9941</th>\n",
       "      <td>wet hot american summer</td>\n",
       "      <td>Grupa opiekunów letniego obozu, podczas ostatn...</td>\n",
       "      <td>Komedia rom.</td>\n",
       "    </tr>\n",
       "    <tr>\n",
       "      <th>9942</th>\n",
       "      <td>the sicilian</td>\n",
       "      <td>Wyjęty spod prawa Salvatore Giuliano razem z g...</td>\n",
       "      <td>Biograficzny / Dramat / Kryminał</td>\n",
       "    </tr>\n",
       "  </tbody>\n",
       "</table>\n",
       "<p>9943 rows × 3 columns</p>\n",
       "</div>"
      ],
      "text/plain": [
       "                         title  \\\n",
       "0               the green mile   \n",
       "1     the shawshank redemption   \n",
       "2                 forrest gump   \n",
       "3                         leon   \n",
       "4          requiem for a dream   \n",
       "...                        ...   \n",
       "9938                dark angel   \n",
       "9939        pozegnanie z maria   \n",
       "9940                       rh+   \n",
       "9941   wet hot american summer   \n",
       "9942              the sicilian   \n",
       "\n",
       "                                            description  \\\n",
       "0     Emerytowany strażnik więzienny opowiada przyja...   \n",
       "1     Adaptacja opowiadania Stephena Kinga. Niesłusz...   \n",
       "2     Historia życia Forresta, chłopca o niskim ilor...   \n",
       "3     Płatny morderca ratuje dwunastoletnią dziewczy...   \n",
       "4     Historia czwórki bohaterów, dla których używki...   \n",
       "...                                                 ...   \n",
       "9938  Policyjny detektyw zostaje wplątany w zagrażaj...   \n",
       "9939  Grupa młodych ludzi próbuje zachować resztki n...   \n",
       "9940   Rh (+) to opowieść o grupie dwudziestokilkule...   \n",
       "9941  Grupa opiekunów letniego obozu, podczas ostatn...   \n",
       "9942  Wyjęty spod prawa Salvatore Giuliano razem z g...   \n",
       "\n",
       "                                 genre  \n",
       "0                               Dramat  \n",
       "1                               Dramat  \n",
       "2                     Dramat / Komedia  \n",
       "3                    Dramat / Kryminał  \n",
       "4                               Dramat  \n",
       "...                                ...  \n",
       "9938                 Thriller / Sci-Fi  \n",
       "9939              Melodramat / Wojenny  \n",
       "9940             Kryminał / Sensacyjny  \n",
       "9941                      Komedia rom.  \n",
       "9942  Biograficzny / Dramat / Kryminał  \n",
       "\n",
       "[9943 rows x 3 columns]"
      ]
     },
     "execution_count": 22,
     "metadata": {},
     "output_type": "execute_result"
    }
   ],
   "source": [
    "df_filmweb"
   ]
  },
  {
   "cell_type": "code",
   "execution_count": 23,
   "metadata": {},
   "outputs": [
    {
     "data": {
      "text/html": [
       "<div>\n",
       "<style scoped>\n",
       "    .dataframe tbody tr th:only-of-type {\n",
       "        vertical-align: middle;\n",
       "    }\n",
       "\n",
       "    .dataframe tbody tr th {\n",
       "        vertical-align: top;\n",
       "    }\n",
       "\n",
       "    .dataframe thead th {\n",
       "        text-align: right;\n",
       "    }\n",
       "</style>\n",
       "<table border=\"1\" class=\"dataframe\">\n",
       "  <thead>\n",
       "    <tr style=\"text-align: right;\">\n",
       "      <th></th>\n",
       "      <th>title</th>\n",
       "      <th>description</th>\n",
       "      <th>genre</th>\n",
       "    </tr>\n",
       "  </thead>\n",
       "  <tbody>\n",
       "    <tr>\n",
       "      <th>0</th>\n",
       "      <td>oscar et la dame rose</td>\n",
       "      <td>Listening in to a conversation between his do...</td>\n",
       "      <td>drama</td>\n",
       "    </tr>\n",
       "    <tr>\n",
       "      <th>1</th>\n",
       "      <td>cupid</td>\n",
       "      <td>A brother and sister with a past incestuous r...</td>\n",
       "      <td>thriller</td>\n",
       "    </tr>\n",
       "    <tr>\n",
       "      <th>2</th>\n",
       "      <td>young, wild and wonderful</td>\n",
       "      <td>As the bus empties the students for their fie...</td>\n",
       "      <td>adult</td>\n",
       "    </tr>\n",
       "    <tr>\n",
       "      <th>3</th>\n",
       "      <td>the secret sin</td>\n",
       "      <td>To help their unemployed father make ends mee...</td>\n",
       "      <td>drama</td>\n",
       "    </tr>\n",
       "    <tr>\n",
       "      <th>4</th>\n",
       "      <td>the unrecovered</td>\n",
       "      <td>The film's title refers not only to the un-re...</td>\n",
       "      <td>drama</td>\n",
       "    </tr>\n",
       "    <tr>\n",
       "      <th>...</th>\n",
       "      <td>...</td>\n",
       "      <td>...</td>\n",
       "      <td>...</td>\n",
       "    </tr>\n",
       "    <tr>\n",
       "      <th>108409</th>\n",
       "      <td>tales of light &amp; dark</td>\n",
       "      <td>Covering multiple genres, Tales of Light &amp; Da...</td>\n",
       "      <td>horror</td>\n",
       "    </tr>\n",
       "    <tr>\n",
       "      <th>108410</th>\n",
       "      <td>der letzte mohikaner</td>\n",
       "      <td>As Alice and Cora Munro attempt to find their...</td>\n",
       "      <td>western</td>\n",
       "    </tr>\n",
       "    <tr>\n",
       "      <th>108411</th>\n",
       "      <td>oliver twink</td>\n",
       "      <td>A movie 169 years in the making. Oliver Twist...</td>\n",
       "      <td>adult</td>\n",
       "    </tr>\n",
       "    <tr>\n",
       "      <th>108412</th>\n",
       "      <td>slipstream</td>\n",
       "      <td>Popular, but mysterious rock D.J Mike Mallard...</td>\n",
       "      <td>drama</td>\n",
       "    </tr>\n",
       "    <tr>\n",
       "      <th>108413</th>\n",
       "      <td>curitiba zero grau</td>\n",
       "      <td>Curitiba is a city in movement, with rhythms ...</td>\n",
       "      <td>drama</td>\n",
       "    </tr>\n",
       "  </tbody>\n",
       "</table>\n",
       "<p>108414 rows × 3 columns</p>\n",
       "</div>"
      ],
      "text/plain": [
       "                            title  \\\n",
       "0           oscar et la dame rose   \n",
       "1                           cupid   \n",
       "2       young, wild and wonderful   \n",
       "3                  the secret sin   \n",
       "4                 the unrecovered   \n",
       "...                           ...   \n",
       "108409      tales of light & dark   \n",
       "108410       der letzte mohikaner   \n",
       "108411               oliver twink   \n",
       "108412                 slipstream   \n",
       "108413         curitiba zero grau   \n",
       "\n",
       "                                              description     genre  \n",
       "0        Listening in to a conversation between his do...     drama  \n",
       "1        A brother and sister with a past incestuous r...  thriller  \n",
       "2        As the bus empties the students for their fie...     adult  \n",
       "3        To help their unemployed father make ends mee...     drama  \n",
       "4        The film's title refers not only to the un-re...     drama  \n",
       "...                                                   ...       ...  \n",
       "108409   Covering multiple genres, Tales of Light & Da...    horror  \n",
       "108410   As Alice and Cora Munro attempt to find their...   western  \n",
       "108411   A movie 169 years in the making. Oliver Twist...     adult  \n",
       "108412   Popular, but mysterious rock D.J Mike Mallard...     drama  \n",
       "108413   Curitiba is a city in movement, with rhythms ...     drama  \n",
       "\n",
       "[108414 rows x 3 columns]"
      ]
     },
     "execution_count": 23,
     "metadata": {},
     "output_type": "execute_result"
    }
   ],
   "source": [
    "df_imdb_all = df_imdb_all.iloc[:, [0,2,1]]\n",
    "## I've seen that the genre column in imdb dataset was padded with spaces\n",
    "## and the belowe cell with filmweb data manipulation did not work because of that\n",
    "## so I've stripped it from those spaces\n",
    "df_imdb_all[\"genre\"] = df_imdb_all[\"genre\"].str.strip()\n",
    "df_imdb_all"
   ]
  },
  {
   "cell_type": "code",
   "execution_count": 24,
   "metadata": {},
   "outputs": [
    {
     "data": {
      "text/html": [
       "<div>\n",
       "<style scoped>\n",
       "    .dataframe tbody tr th:only-of-type {\n",
       "        vertical-align: middle;\n",
       "    }\n",
       "\n",
       "    .dataframe tbody tr th {\n",
       "        vertical-align: top;\n",
       "    }\n",
       "\n",
       "    .dataframe thead th {\n",
       "        text-align: right;\n",
       "    }\n",
       "</style>\n",
       "<table border=\"1\" class=\"dataframe\">\n",
       "  <thead>\n",
       "    <tr style=\"text-align: right;\">\n",
       "      <th></th>\n",
       "      <th>title</th>\n",
       "      <th>description</th>\n",
       "      <th>genre</th>\n",
       "    </tr>\n",
       "  </thead>\n",
       "  <tbody>\n",
       "    <tr>\n",
       "      <th>0</th>\n",
       "      <td>the green mile</td>\n",
       "      <td>Emerytowany strażnik więzienny opowiada przyja...</td>\n",
       "      <td>drama</td>\n",
       "    </tr>\n",
       "    <tr>\n",
       "      <th>1</th>\n",
       "      <td>the shawshank redemption</td>\n",
       "      <td>Adaptacja opowiadania Stephena Kinga. Niesłusz...</td>\n",
       "      <td>drama</td>\n",
       "    </tr>\n",
       "    <tr>\n",
       "      <th>2</th>\n",
       "      <td>forrest gump</td>\n",
       "      <td>Historia życia Forresta, chłopca o niskim ilor...</td>\n",
       "      <td>drama</td>\n",
       "    </tr>\n",
       "    <tr>\n",
       "      <th>3</th>\n",
       "      <td>leon</td>\n",
       "      <td>Płatny morderca ratuje dwunastoletnią dziewczy...</td>\n",
       "      <td>drama</td>\n",
       "    </tr>\n",
       "    <tr>\n",
       "      <th>4</th>\n",
       "      <td>requiem for a dream</td>\n",
       "      <td>Historia czwórki bohaterów, dla których używki...</td>\n",
       "      <td>drama</td>\n",
       "    </tr>\n",
       "    <tr>\n",
       "      <th>...</th>\n",
       "      <td>...</td>\n",
       "      <td>...</td>\n",
       "      <td>...</td>\n",
       "    </tr>\n",
       "    <tr>\n",
       "      <th>9938</th>\n",
       "      <td>dark angel</td>\n",
       "      <td>Policyjny detektyw zostaje wplątany w zagrażaj...</td>\n",
       "      <td>thriller</td>\n",
       "    </tr>\n",
       "    <tr>\n",
       "      <th>9939</th>\n",
       "      <td>pozegnanie z maria</td>\n",
       "      <td>Grupa młodych ludzi próbuje zachować resztki n...</td>\n",
       "      <td>drama</td>\n",
       "    </tr>\n",
       "    <tr>\n",
       "      <th>9940</th>\n",
       "      <td>rh+</td>\n",
       "      <td>Rh (+) to opowieść o grupie dwudziestokilkule...</td>\n",
       "      <td>crime</td>\n",
       "    </tr>\n",
       "    <tr>\n",
       "      <th>9941</th>\n",
       "      <td>wet hot american summer</td>\n",
       "      <td>Grupa opiekunów letniego obozu, podczas ostatn...</td>\n",
       "      <td>comedy</td>\n",
       "    </tr>\n",
       "    <tr>\n",
       "      <th>9942</th>\n",
       "      <td>the sicilian</td>\n",
       "      <td>Wyjęty spod prawa Salvatore Giuliano razem z g...</td>\n",
       "      <td>biography</td>\n",
       "    </tr>\n",
       "  </tbody>\n",
       "</table>\n",
       "<p>9598 rows × 3 columns</p>\n",
       "</div>"
      ],
      "text/plain": [
       "                         title  \\\n",
       "0               the green mile   \n",
       "1     the shawshank redemption   \n",
       "2                 forrest gump   \n",
       "3                         leon   \n",
       "4          requiem for a dream   \n",
       "...                        ...   \n",
       "9938                dark angel   \n",
       "9939        pozegnanie z maria   \n",
       "9940                       rh+   \n",
       "9941   wet hot american summer   \n",
       "9942              the sicilian   \n",
       "\n",
       "                                            description      genre  \n",
       "0     Emerytowany strażnik więzienny opowiada przyja...      drama  \n",
       "1     Adaptacja opowiadania Stephena Kinga. Niesłusz...      drama  \n",
       "2     Historia życia Forresta, chłopca o niskim ilor...      drama  \n",
       "3     Płatny morderca ratuje dwunastoletnią dziewczy...      drama  \n",
       "4     Historia czwórki bohaterów, dla których używki...      drama  \n",
       "...                                                 ...        ...  \n",
       "9938  Policyjny detektyw zostaje wplątany w zagrażaj...   thriller  \n",
       "9939  Grupa młodych ludzi próbuje zachować resztki n...      drama  \n",
       "9940   Rh (+) to opowieść o grupie dwudziestokilkule...      crime  \n",
       "9941  Grupa opiekunów letniego obozu, podczas ostatn...     comedy  \n",
       "9942  Wyjęty spod prawa Salvatore Giuliano razem z g...  biography  \n",
       "\n",
       "[9598 rows x 3 columns]"
      ]
     },
     "execution_count": 24,
     "metadata": {},
     "output_type": "execute_result"
    }
   ],
   "source": [
    "## Okey so now that we have cleaned titles let's clean the genres for filmweb dataset\n",
    "df_filmweb = df_filmweb.pipe(first_genre_filmweb, set(df_imdb_all.genre))\n",
    "df_filmweb"
   ]
  },
  {
   "cell_type": "code",
   "execution_count": 25,
   "metadata": {},
   "outputs": [
    {
     "data": {
      "text/plain": [
       "1976"
      ]
     },
     "execution_count": 25,
     "metadata": {},
     "output_type": "execute_result"
    }
   ],
   "source": [
    "## Let's once again see how many movies are the same in both datasets\n",
    "## We've lost some movies due to \"genre missmatch\"(might think about it later)\n",
    "titles_filmweb = df_filmweb[\"title\"].pipe(clean_titles)\n",
    "titles_imdb = df_imdb_all[\"title\"].pipe(clean_titles)\n",
    "len(set(titles_filmweb) & set(titles_imdb))"
   ]
  },
  {
   "cell_type": "code",
   "execution_count": 26,
   "metadata": {},
   "outputs": [
    {
     "data": {
      "text/plain": [
       "1178"
      ]
     },
     "execution_count": 26,
     "metadata": {},
     "output_type": "execute_result"
    }
   ],
   "source": [
    "## Let's also check how many movies that belong to both datasets have the same genre\n",
    "## Not bad, 1178 movies belong to the same genres according to both datasets\n",
    "len( set(zip(df_filmweb.title, df_filmweb.genre)) & set(zip(df_imdb_all.title, df_imdb_all.genre)) )"
   ]
  },
  {
   "cell_type": "code",
   "execution_count": 27,
   "metadata": {},
   "outputs": [],
   "source": [
    "unique_genres_imdb = df_imdb_all.genre.str.strip().unique()"
   ]
  },
  {
   "cell_type": "code",
   "execution_count": 28,
   "metadata": {},
   "outputs": [],
   "source": [
    "boolean_mask = df_filmweb.genre.isin(unique_genres_imdb)"
   ]
  },
  {
   "cell_type": "code",
   "execution_count": 29,
   "metadata": {},
   "outputs": [],
   "source": [
    "df_filmweb = df_filmweb[boolean_mask].reset_index(drop=True)"
   ]
  },
  {
   "cell_type": "code",
   "execution_count": 30,
   "metadata": {},
   "outputs": [
    {
     "data": {
      "text/plain": [
       "genre\n",
       "drama          3899\n",
       "comedy         1458\n",
       "thriller        899\n",
       "horror          696\n",
       "biography       539\n",
       "animation       393\n",
       "action          322\n",
       "fantasy         281\n",
       "family          251\n",
       "crime           244\n",
       "documentary     243\n",
       "adventure       162\n",
       "sci-fi           57\n",
       "western          53\n",
       "romance          43\n",
       "musical          28\n",
       "war              17\n",
       "short             7\n",
       "music             6\n",
       "dtype: int64"
      ]
     },
     "execution_count": 30,
     "metadata": {},
     "output_type": "execute_result"
    }
   ],
   "source": [
    "df_filmweb.groupby(\"genre\").size().sort_values(ascending=False)"
   ]
  },
  {
   "cell_type": "code",
   "execution_count": 31,
   "metadata": {},
   "outputs": [
    {
     "data": {
      "text/plain": [
       "genre\n",
       "drama          27225\n",
       "documentary    26192\n",
       "comedy         14893\n",
       "short          10145\n",
       "horror          4408\n",
       "thriller        3181\n",
       "action          2629\n",
       "western         2064\n",
       "reality-tv      1767\n",
       "family          1567\n",
       "adventure       1550\n",
       "music           1462\n",
       "romance         1344\n",
       "sci-fi          1293\n",
       "adult           1180\n",
       "crime           1010\n",
       "animation        996\n",
       "sport            863\n",
       "talk-show        782\n",
       "fantasy          645\n",
       "mystery          637\n",
       "musical          553\n",
       "biography        529\n",
       "history          486\n",
       "game-show        387\n",
       "news             362\n",
       "war              264\n",
       "dtype: int64"
      ]
     },
     "execution_count": 31,
     "metadata": {},
     "output_type": "execute_result"
    }
   ],
   "source": [
    "df_imdb_all.groupby(\"genre\").size().sort_values(ascending=False)"
   ]
  },
  {
   "cell_type": "markdown",
   "metadata": {},
   "source": [
    "We would prorably have to think about what to do with movies that have less than {n} number of samples because it would be hard to get anything meaningful from them"
   ]
  },
  {
   "cell_type": "code",
   "execution_count": 32,
   "metadata": {},
   "outputs": [],
   "source": [
    "def down_sample_both_dfs(df1, df2, n=1):\n",
    "    same_genres = set(df1.genre) & set(df2.genre)\n",
    "    print(f\"Genres without the threshold: {same_genres}\\n\")\n",
    "    groupped_df1 = df1.groupby(\"genre\")\n",
    "    groupped_df2 = df2.groupby(\"genre\")\n",
    "    \n",
    "    ## TODO: Some implementation that will exclude the movies with less than n number of samples\n",
    "    ## in one of the dataset\n",
    "    \n",
    "    groupped_df1_sizes = groupped_df1.size()\n",
    "    groupped_df2_sizes = groupped_df2.size()\n",
    "\n",
    "    genres_df1_n = groupped_df1_sizes[groupped_df1_sizes >= n].index\n",
    "    genres_df2_n = groupped_df2_sizes[groupped_df2_sizes >= n].index\n",
    "\n",
    "    same_genres_n = set(genres_df1_n) & set(genres_df2_n)\n",
    "    print(f\"Genres with the inclusion threshold of {n}: {same_genres_n}\\n\")\n",
    "    \n",
    "    mins_for_every_genre = {key: min(groupped_df1_sizes[key], groupped_df2_sizes[key]) for key in same_genres_n}\n",
    "\n",
    "    print(\"Minimal values for each genre:\")\n",
    "    print(mins_for_every_genre)\n",
    "    \n",
    "    df1_new_beggining = pd.DataFrame()\n",
    "    df2_new_beggining = pd.DataFrame()\n",
    "    \n",
    "    for key, value in mins_for_every_genre.items():\n",
    "#         print(groupped_df1[key].sample(n=value))\n",
    "        df1_new_beggining = pd.concat([df1_new_beggining, df1[df1[\"genre\"] == key].sample(n=value, random_state=42)], axis=0)\n",
    "        df2_new_beggining = pd.concat([df2_new_beggining, df2[df2[\"genre\"] == key].sample(n=value, random_state=42)], axis=0)\n",
    "    return df1_new_beggining.reset_index(drop=True), df2_new_beggining.reset_index(drop=True)\n",
    "    "
   ]
  },
  {
   "cell_type": "code",
   "execution_count": 33,
   "metadata": {},
   "outputs": [
    {
     "name": "stdout",
     "output_type": "stream",
     "text": [
      "Genres without the threshold: {'romance', 'biography', 'horror', 'short', 'documentary', 'family', 'adventure', 'western', 'fantasy', 'sci-fi', 'music', 'musical', 'thriller', 'war', 'crime', 'action', 'animation', 'drama', 'comedy'}\n",
      "\n",
      "Genres with the inclusion threshold of 50: {'documentary', 'sci-fi', 'crime', 'family', 'action', 'biography', 'animation', 'horror', 'drama', 'adventure', 'comedy', 'thriller', 'western', 'fantasy'}\n",
      "\n",
      "Minimal values for each genre:\n",
      "{'documentary': 243, 'sci-fi': 57, 'crime': 244, 'family': 251, 'action': 322, 'biography': 529, 'animation': 393, 'horror': 696, 'drama': 3899, 'adventure': 162, 'comedy': 1458, 'thriller': 899, 'western': 53, 'fantasy': 281}\n"
     ]
    }
   ],
   "source": [
    "df_filmweb_sampled, df_imdb_all_sampled = down_sample_both_dfs(df_filmweb, df_imdb_all, 50)"
   ]
  },
  {
   "cell_type": "code",
   "execution_count": 34,
   "metadata": {},
   "outputs": [
    {
     "data": {
      "text/plain": [
       "True"
      ]
     },
     "execution_count": 34,
     "metadata": {},
     "output_type": "execute_result"
    }
   ],
   "source": [
    "(df_filmweb_sampled.groupby(\"genre\").size() == df_imdb_all_sampled.groupby(\"genre\").size()).all()"
   ]
  },
  {
   "cell_type": "code",
   "execution_count": 35,
   "metadata": {},
   "outputs": [
    {
     "data": {
      "text/html": [
       "<div>\n",
       "<style scoped>\n",
       "    .dataframe tbody tr th:only-of-type {\n",
       "        vertical-align: middle;\n",
       "    }\n",
       "\n",
       "    .dataframe tbody tr th {\n",
       "        vertical-align: top;\n",
       "    }\n",
       "\n",
       "    .dataframe thead th {\n",
       "        text-align: right;\n",
       "    }\n",
       "</style>\n",
       "<table border=\"1\" class=\"dataframe\">\n",
       "  <thead>\n",
       "    <tr style=\"text-align: right;\">\n",
       "      <th></th>\n",
       "      <th>title</th>\n",
       "      <th>description</th>\n",
       "      <th>genre</th>\n",
       "    </tr>\n",
       "  </thead>\n",
       "  <tbody>\n",
       "    <tr>\n",
       "      <th>3844</th>\n",
       "      <td>a londoni ferfi</td>\n",
       "      <td>Maloin jest człowiekiem, którego nie czeka w ...</td>\n",
       "      <td>drama</td>\n",
       "    </tr>\n",
       "    <tr>\n",
       "      <th>6838</th>\n",
       "      <td>the half of it</td>\n",
       "      <td>Grzeczna i&amp;nbsp;wzorowa licealistka pomaga zna...</td>\n",
       "      <td>comedy</td>\n",
       "    </tr>\n",
       "    <tr>\n",
       "      <th>6463</th>\n",
       "      <td>kochegar</td>\n",
       "      <td>Weteran amii radzieckiej pracuje w kotłowni pr...</td>\n",
       "      <td>drama</td>\n",
       "    </tr>\n",
       "    <tr>\n",
       "      <th>5851</th>\n",
       "      <td>the other man</td>\n",
       "      <td>Peter odkrywa, że jego żona miała kochanka. Po...</td>\n",
       "      <td>drama</td>\n",
       "    </tr>\n",
       "    <tr>\n",
       "      <th>4071</th>\n",
       "      <td>a single man</td>\n",
       "      <td>Historia Brytyjczyka George'a Falconera, profe...</td>\n",
       "      <td>drama</td>\n",
       "    </tr>\n",
       "    <tr>\n",
       "      <th>...</th>\n",
       "      <td>...</td>\n",
       "      <td>...</td>\n",
       "      <td>...</td>\n",
       "    </tr>\n",
       "    <tr>\n",
       "      <th>5734</th>\n",
       "      <td>rok spokojnego sonca</td>\n",
       "      <td>Emilia wraz z matką próbują poukładać sobie ży...</td>\n",
       "      <td>drama</td>\n",
       "    </tr>\n",
       "    <tr>\n",
       "      <th>5191</th>\n",
       "      <td>boyhood</td>\n",
       "      <td>Opowieść ukazuje życie Masona i otaczających g...</td>\n",
       "      <td>drama</td>\n",
       "    </tr>\n",
       "    <tr>\n",
       "      <th>5390</th>\n",
       "      <td>compliance</td>\n",
       "      <td>Do kierowniczki restauracji dzwoni policjant, ...</td>\n",
       "      <td>drama</td>\n",
       "    </tr>\n",
       "    <tr>\n",
       "      <th>860</th>\n",
       "      <td>top gun: maverick</td>\n",
       "      <td>Po ponad 30 latach w służbie amerykańskiej ma...</td>\n",
       "      <td>action</td>\n",
       "    </tr>\n",
       "    <tr>\n",
       "      <th>7270</th>\n",
       "      <td>tesciowie</td>\n",
       "      <td>Szalona opowieść o tym, co się może wydarzyć, ...</td>\n",
       "      <td>comedy</td>\n",
       "    </tr>\n",
       "  </tbody>\n",
       "</table>\n",
       "<p>9487 rows × 3 columns</p>\n",
       "</div>"
      ],
      "text/plain": [
       "                     title                                        description  \\\n",
       "3844       a londoni ferfi   Maloin jest człowiekiem, którego nie czeka w ...   \n",
       "6838        the half of it  Grzeczna i&nbsp;wzorowa licealistka pomaga zna...   \n",
       "6463              kochegar  Weteran amii radzieckiej pracuje w kotłowni pr...   \n",
       "5851         the other man  Peter odkrywa, że jego żona miała kochanka. Po...   \n",
       "4071          a single man  Historia Brytyjczyka George'a Falconera, profe...   \n",
       "...                    ...                                                ...   \n",
       "5734  rok spokojnego sonca  Emilia wraz z matką próbują poukładać sobie ży...   \n",
       "5191               boyhood  Opowieść ukazuje życie Masona i otaczających g...   \n",
       "5390            compliance  Do kierowniczki restauracji dzwoni policjant, ...   \n",
       "860      top gun: maverick   Po ponad 30 latach w służbie amerykańskiej ma...   \n",
       "7270             tesciowie  Szalona opowieść o tym, co się może wydarzyć, ...   \n",
       "\n",
       "       genre  \n",
       "3844   drama  \n",
       "6838  comedy  \n",
       "6463   drama  \n",
       "5851   drama  \n",
       "4071   drama  \n",
       "...      ...  \n",
       "5734   drama  \n",
       "5191   drama  \n",
       "5390   drama  \n",
       "860   action  \n",
       "7270  comedy  \n",
       "\n",
       "[9487 rows x 3 columns]"
      ]
     },
     "execution_count": 35,
     "metadata": {},
     "output_type": "execute_result"
    }
   ],
   "source": [
    "df_filmweb_sampled.sample(frac=1., random_state=42)"
   ]
  },
  {
   "cell_type": "code",
   "execution_count": 36,
   "metadata": {},
   "outputs": [
    {
     "data": {
      "text/html": [
       "<div>\n",
       "<style scoped>\n",
       "    .dataframe tbody tr th:only-of-type {\n",
       "        vertical-align: middle;\n",
       "    }\n",
       "\n",
       "    .dataframe tbody tr th {\n",
       "        vertical-align: top;\n",
       "    }\n",
       "\n",
       "    .dataframe thead th {\n",
       "        text-align: right;\n",
       "    }\n",
       "</style>\n",
       "<table border=\"1\" class=\"dataframe\">\n",
       "  <thead>\n",
       "    <tr style=\"text-align: right;\">\n",
       "      <th></th>\n",
       "      <th>title</th>\n",
       "      <th>description</th>\n",
       "      <th>genre</th>\n",
       "    </tr>\n",
       "  </thead>\n",
       "  <tbody>\n",
       "    <tr>\n",
       "      <th>3844</th>\n",
       "      <td>dolls cant cry</td>\n",
       "      <td>Trapped in her own doll-like existence, Faith...</td>\n",
       "      <td>drama</td>\n",
       "    </tr>\n",
       "    <tr>\n",
       "      <th>6838</th>\n",
       "      <td>la gloire du regiment</td>\n",
       "      <td>Performing military service, Karel Maes decid...</td>\n",
       "      <td>comedy</td>\n",
       "    </tr>\n",
       "    <tr>\n",
       "      <th>6463</th>\n",
       "      <td>mai ratima</td>\n",
       "      <td>Unemployed and hopeless, Soo-young witnesses ...</td>\n",
       "      <td>drama</td>\n",
       "    </tr>\n",
       "    <tr>\n",
       "      <th>5851</th>\n",
       "      <td>boro bhalo lok chhilo</td>\n",
       "      <td>Yasin is a well educated young man and son of...</td>\n",
       "      <td>drama</td>\n",
       "    </tr>\n",
       "    <tr>\n",
       "      <th>4071</th>\n",
       "      <td>cai niao</td>\n",
       "      <td>Soon after a young police officer reports for...</td>\n",
       "      <td>drama</td>\n",
       "    </tr>\n",
       "    <tr>\n",
       "      <th>...</th>\n",
       "      <td>...</td>\n",
       "      <td>...</td>\n",
       "      <td>...</td>\n",
       "    </tr>\n",
       "    <tr>\n",
       "      <th>5734</th>\n",
       "      <td>armenia</td>\n",
       "      <td>\"Armenia\" is a cinematic interweaving of film...</td>\n",
       "      <td>drama</td>\n",
       "    </tr>\n",
       "    <tr>\n",
       "      <th>5191</th>\n",
       "      <td>jsem nebe</td>\n",
       "      <td>In the South Bohemian little town, young Lenk...</td>\n",
       "      <td>drama</td>\n",
       "    </tr>\n",
       "    <tr>\n",
       "      <th>5390</th>\n",
       "      <td>mitte 30</td>\n",
       "      <td>Thirtysomething Gerrit, married to Claudia, w...</td>\n",
       "      <td>drama</td>\n",
       "    </tr>\n",
       "    <tr>\n",
       "      <th>860</th>\n",
       "      <td>laawaris</td>\n",
       "      <td>Advocate Anand Saxena lives in a small apartm...</td>\n",
       "      <td>action</td>\n",
       "    </tr>\n",
       "    <tr>\n",
       "      <th>7270</th>\n",
       "      <td>last laugh</td>\n",
       "      <td>Reaching a crossroads in his personal life, u...</td>\n",
       "      <td>comedy</td>\n",
       "    </tr>\n",
       "  </tbody>\n",
       "</table>\n",
       "<p>9487 rows × 3 columns</p>\n",
       "</div>"
      ],
      "text/plain": [
       "                      title  \\\n",
       "3844         dolls cant cry   \n",
       "6838  la gloire du regiment   \n",
       "6463             mai ratima   \n",
       "5851  boro bhalo lok chhilo   \n",
       "4071               cai niao   \n",
       "...                     ...   \n",
       "5734                armenia   \n",
       "5191              jsem nebe   \n",
       "5390               mitte 30   \n",
       "860                laawaris   \n",
       "7270             last laugh   \n",
       "\n",
       "                                            description   genre  \n",
       "3844   Trapped in her own doll-like existence, Faith...   drama  \n",
       "6838   Performing military service, Karel Maes decid...  comedy  \n",
       "6463   Unemployed and hopeless, Soo-young witnesses ...   drama  \n",
       "5851   Yasin is a well educated young man and son of...   drama  \n",
       "4071   Soon after a young police officer reports for...   drama  \n",
       "...                                                 ...     ...  \n",
       "5734   \"Armenia\" is a cinematic interweaving of film...   drama  \n",
       "5191   In the South Bohemian little town, young Lenk...   drama  \n",
       "5390   Thirtysomething Gerrit, married to Claudia, w...   drama  \n",
       "860    Advocate Anand Saxena lives in a small apartm...  action  \n",
       "7270   Reaching a crossroads in his personal life, u...  comedy  \n",
       "\n",
       "[9487 rows x 3 columns]"
      ]
     },
     "execution_count": 36,
     "metadata": {},
     "output_type": "execute_result"
    }
   ],
   "source": [
    "df_imdb_all_sampled.sample(frac=1., random_state=42)"
   ]
  },
  {
   "cell_type": "code",
   "execution_count": 37,
   "metadata": {},
   "outputs": [],
   "source": [
    "## Let's do some more EDA now"
   ]
  },
  {
   "cell_type": "code",
   "execution_count": 38,
   "metadata": {},
   "outputs": [
    {
     "data": {
      "image/png": "[encoded data removed]",
      "text/plain": [
       "<Figure size 432x288 with 1 Axes>"
      ]
     },
     "metadata": {
      "needs_background": "light"
     },
     "output_type": "display_data"
    }
   ],
   "source": [
    "## The same as with imdb dataset (right now at least)\n",
    "df_filmweb_sampled.groupby(\"genre\").size().plot.bar(edgecolor=\"k\")\n",
    "plt.show()"
   ]
  },
  {
   "cell_type": "markdown",
   "metadata": {},
   "source": [
    "Let's check for average number of words by genre in two datasets"
   ]
  },
  {
   "cell_type": "code",
   "execution_count": 39,
   "metadata": {},
   "outputs": [],
   "source": [
    "df_filmweb_sampled[\"words_per_description\"] = df_filmweb_sampled[\"description\"].str.split().apply(len)\n",
    "df_imdb_all_sampled[\"words_per_description\"] = df_imdb_all_sampled[\"description\"].str.split().apply(len)"
   ]
  },
  {
   "cell_type": "code",
   "execution_count": 40,
   "metadata": {},
   "outputs": [
    {
     "data": {
      "image/png": "[encoded data removed]",
      "text/plain": [
       "<Figure size 1080x432 with 1 Axes>"
      ]
     },
     "metadata": {
      "needs_background": "light"
     },
     "output_type": "display_data"
    }
   ],
   "source": [
    "df_filmweb_sampled.boxplot(\"words_per_description\", by=\"genre\", grid=False,\n",
    "showfliers=False, color=\"black\", figsize=(15, 6))\n",
    "plt.ylim((-10, 450))\n",
    "plt.title(\"Words per description - Filmweb\")\n",
    "plt.suptitle(\"\")\n",
    "plt.xlabel(\"\")\n",
    "plt.show()"
   ]
  },
  {
   "cell_type": "code",
   "execution_count": 41,
   "metadata": {},
   "outputs": [
    {
     "data": {
      "image/png": "[encoded data removed]",
      "text/plain": [
       "<Figure size 1080x432 with 1 Axes>"
      ]
     },
     "metadata": {
      "needs_background": "light"
     },
     "output_type": "display_data"
    }
   ],
   "source": [
    "df_imdb_all_sampled.boxplot(\"words_per_description\", by=\"genre\", grid=False,\n",
    "showfliers=False, color=\"black\", figsize=(15, 6))\n",
    "plt.title(\"Words per description - IMDB\")\n",
    "plt.suptitle(\"\")\n",
    "plt.xlabel(\"\")\n",
    "plt.show()"
   ]
  },
  {
   "cell_type": "code",
   "execution_count": null,
   "metadata": {},
   "outputs": [],
   "source": []
  }
 ],
 "metadata": {
  "interpreter": {
   "hash": "e504b13805a571caf9e9c36f147e70d112d45db5bb6c2cff7e2eb0040a5df090"
  },
  "kernelspec": {
   "display_name": "Python 3.9.4 ('general')",
   "language": "python",
   "name": "python3"
  },
  "language_info": {
   "codemirror_mode": {
    "name": "ipython",
    "version": 3
   },
   "file_extension": ".py",
   "mimetype": "text/x-python",
   "name": "python",
   "nbconvert_exporter": "python",
   "pygments_lexer": "ipython3",
   "version": "3.9.4"
  }
 },
 "nbformat": 4,
 "nbformat_minor": 2
}
